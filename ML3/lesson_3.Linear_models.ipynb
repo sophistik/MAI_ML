{
 "cells": [
  {
   "cell_type": "markdown",
   "metadata": {},
   "source": [
    "# Линейные модели"
   ]
  },
  {
   "cell_type": "markdown",
   "metadata": {},
   "source": [
    "Рассмотрим среднедневное кол-во заказов блюда \"Пицца\" ресторанов определенного сегмента на платформе DC в марте 2019 года."
   ]
  },
  {
   "cell_type": "code",
   "execution_count": 5,
   "metadata": {},
   "outputs": [],
   "source": [
    "import pandas as pd\n",
    "import matplotlib.pyplot as plt\n",
    "import numpy as np \n",
    "\n",
    "%matplotlib inline"
   ]
  },
  {
   "cell_type": "code",
   "execution_count": 6,
   "metadata": {},
   "outputs": [
    {
     "data": {
      "text/html": [
       "<div>\n",
       "<style scoped>\n",
       "    .dataframe tbody tr th:only-of-type {\n",
       "        vertical-align: middle;\n",
       "    }\n",
       "\n",
       "    .dataframe tbody tr th {\n",
       "        vertical-align: top;\n",
       "    }\n",
       "\n",
       "    .dataframe thead th {\n",
       "        text-align: right;\n",
       "    }\n",
       "</style>\n",
       "<table border=\"1\" class=\"dataframe\">\n",
       "  <thead>\n",
       "    <tr style=\"text-align: right;\">\n",
       "      <th></th>\n",
       "      <th>Price</th>\n",
       "      <th>Orders</th>\n",
       "    </tr>\n",
       "  </thead>\n",
       "  <tbody>\n",
       "    <tr>\n",
       "      <td>0</td>\n",
       "      <td>912</td>\n",
       "      <td>32</td>\n",
       "    </tr>\n",
       "    <tr>\n",
       "      <td>1</td>\n",
       "      <td>958</td>\n",
       "      <td>25</td>\n",
       "    </tr>\n",
       "    <tr>\n",
       "      <td>2</td>\n",
       "      <td>979</td>\n",
       "      <td>11</td>\n",
       "    </tr>\n",
       "    <tr>\n",
       "      <td>3</td>\n",
       "      <td>530</td>\n",
       "      <td>33</td>\n",
       "    </tr>\n",
       "    <tr>\n",
       "      <td>4</td>\n",
       "      <td>750</td>\n",
       "      <td>16</td>\n",
       "    </tr>\n",
       "  </tbody>\n",
       "</table>\n",
       "</div>"
      ],
      "text/plain": [
       "   Price  Orders\n",
       "0    912      32\n",
       "1    958      25\n",
       "2    979      11\n",
       "3    530      33\n",
       "4    750      16"
      ]
     },
     "execution_count": 6,
     "metadata": {},
     "output_type": "execute_result"
    }
   ],
   "source": [
    "orders_info = pd.read_excel('files/lesson_3/mar_2019_Samara_pizza.xlsx')\n",
    "orders_info.head()"
   ]
  },
  {
   "cell_type": "code",
   "execution_count": 3,
   "metadata": {},
   "outputs": [
    {
     "data": {
      "text/plain": [
       "<matplotlib.axes._subplots.AxesSubplot at 0x1d08bf0fb70>"
      ]
     },
     "execution_count": 3,
     "metadata": {},
     "output_type": "execute_result"
    },
    {
     "data": {
      "image/png": "[encoded data removed]",
      "text/plain": [
       "<Figure size 1152x360 with 1 Axes>"
      ]
     },
     "metadata": {
      "needs_background": "light"
     },
     "output_type": "display_data"
    }
   ],
   "source": [
    "fig = plt.figure(figsize=(16,5))\n",
    "ax1 = plt.subplot(111)\n",
    "\n",
    "orders_info.plot.scatter('Price','Orders',ax = ax1)"
   ]
  },
  {
   "cell_type": "markdown",
   "metadata": {},
   "source": [
    "**Задача.** На платформе появляется новый ресторан и хочет продавать Пиццу по определенной цене. Сколько у данного ресторана будет продаж в день?"
   ]
  },
  {
   "cell_type": "markdown",
   "metadata": {},
   "source": [
    "Чтобы решить поставленную задачу - необходимо **обобщить** закономерности цены и кол-ва продаж.\n",
    "\n",
    "По графику можно сделать вывод о существовании зависимости между ценой и количеством продаж. Если предположить, что зависимость приблизительно линейная, ее можно представить в виде прямой на этом графике. По этой прямой и можно будет предсказать количество продаж."
   ]
  },
  {
   "cell_type": "markdown",
   "metadata": {},
   "source": [
    "-----"
   ]
  },
  {
   "cell_type": "markdown",
   "metadata": {},
   "source": [
    "Будем искать линейную зависимость между данными, построив уравнение прямой (уравнение регрессии):\n",
    "\n",
    "$ \\Large y_i = \\beta_0 + \\beta_1 x_i + \\epsilon_i$\n",
    "\n",
    "\n",
    "где \n",
    "\n",
    "\n",
    "$y_i$ - это зависимая переменная (отклик)\n",
    "\n",
    "$x_i$ — известная константа (значение объясняющей переменной, измерянной в i-ом эксперименте)\n",
    "\n",
    "$\\beta_0, \\beta_1$ — параметры модели (свободный член и угловой коэффициент)\n",
    "\n",
    "$\\epsilon_i$ - случайная ошибка"
   ]
  },
  {
   "cell_type": "markdown",
   "metadata": {},
   "source": [
    "То есть, нужно построить такую прямую, относительно которой разброс точек будет минимален. Для этого надо найти параметры уравнения регрессии $\\beta_0, \\beta_1$ ,а затем оценить получившиеся результаты (возможно, что найденная зависимость крайне плохо обобщает данные)."
   ]
  },
  {
   "cell_type": "markdown",
   "metadata": {},
   "source": [
    "-----"
   ]
  },
  {
   "cell_type": "markdown",
   "metadata": {},
   "source": [
    "### Аналитическое решение"
   ]
  },
  {
   "cell_type": "markdown",
   "metadata": {},
   "source": [
    "Способ нахождения линии, сумма квадратов расстояний от которой до всех точек выборки минимальна,\n",
    "называется **методом наименьших квадратов**. В основе - минимизация расстояния от прямой регрессии до каждой из точек выборки, по-другому - минимизация ошибки расстояний между точками выборки и прямой регрессии."
   ]
  },
  {
   "cell_type": "markdown",
   "metadata": {},
   "source": [
    "Чаще всего функционал линейной регрессии минимизирует **среднеквадратичную ошибку** - получаем задачу оптимизации функции стоимости:"
   ]
  },
  {
   "cell_type": "markdown",
   "metadata": {},
   "source": [
    "$\\Large \\begin{array}{rcl}\\mathcal{L}\\left(X, \\vec{y}, \\vec{w} \\right) =  \\frac{1}{2n} \\sum_{i=1}^n \\left(y_i - \\vec{x}_i^T \\vec{w}_i\\right)^2 \\\\ = \\frac{1}{2n} \\left(\\vec{y} - X \\vec{w}\\right)^T \\left(\\vec{y} - X \\vec{w}\\right) \\end{array}$\n",
    "\n",
    "где \n",
    "\n",
    "$\\vec{w}$ - это вектор параметров модели."
   ]
  },
  {
   "cell_type": "markdown",
   "metadata": {},
   "source": [
    "Если продифференцировать данный функционал по вектору $\\vec{w}$, приравнять к нулю и решить уравнение, то получим явную формулу для решения:"
   ]
  },
  {
   "cell_type": "markdown",
   "metadata": {},
   "source": [
    "$\\Large \\vec{w} = \\left(X^T X\\right)^{-1} X^T \\vec{y}$\n"
   ]
  },
  {
   "cell_type": "markdown",
   "metadata": {},
   "source": [
    "<img width = '600px' src=\"images/lesson_3/pr.png\">"
   ]
  },
  {
   "cell_type": "markdown",
   "metadata": {},
   "source": [
    "Оценка МНК является **лучшей** оценкой параметров модели, среди всех линейных и несмещенных оценок, то есть обладающей наименьшей дисперсией (из теоремы Гаусса — Маркова)."
   ]
  },
  {
   "cell_type": "markdown",
   "metadata": {},
   "source": [
    "**Предположения МНК**\n",
    "\n",
    "- Предполагается, что истинная модель y действительно линейна.\n",
    "- Предполагается, что наблюдения, по которым оценивается модель, случайны, то есть объекты дают независимую выборку наблюдений.\n",
    "- Предполагается, что ни один из признаков не является линейной комбинацией других.\n",
    "- Предполагается, что ошибка случайна."
   ]
  },
  {
   "cell_type": "markdown",
   "metadata": {},
   "source": [
    "### Линейная регрессия с Numpy"
   ]
  },
  {
   "cell_type": "code",
   "execution_count": 29,
   "metadata": {},
   "outputs": [],
   "source": [
    "from numpy.linalg import inv\n",
    "\n",
    "X  = orders_info['Price'].values\n",
    "y  = orders_info['Orders'].values\n",
    "\n",
    "X = X.reshape((len(X), 1))\n",
    "ones_ = np.ones(X.shape).reshape((len(X), 1))\n",
    "\n",
    "X = np.hstack((X,ones_))\n",
    "\n",
    "# w = [B1, B0]\n",
    "w = inv(X.T.dot(X)).dot(X.T).dot(y) \n",
    "\n",
    "ymean = np.mean(y)"
   ]
  },
  {
   "cell_type": "code",
   "execution_count": 30,
   "metadata": {},
   "outputs": [
    {
     "data": {
      "text/plain": [
       "<matplotlib.axes._subplots.AxesSubplot at 0x1d08f82f9b0>"
      ]
     },
     "execution_count": 30,
     "metadata": {},
     "output_type": "execute_result"
    },
    {
     "data": {
      "image/png": "[encoded data removed]",
      "text/plain": [
       "<Figure size 1152x360 with 1 Axes>"
      ]
     },
     "metadata": {
      "needs_background": "light"
     },
     "output_type": "display_data"
    }
   ],
   "source": [
    "orders_info['predicted_analytical_solution'] = w[1] + w[0]*orders_info['Price']\n",
    "orders_info['mean'] = ymean\n",
    "\n",
    "fig = plt.figure(figsize=(16,5))\n",
    "ax1 = plt.subplot(111)\n",
    "\n",
    "orders_info.plot.scatter('Price','Orders',ax = ax1)\n",
    "orders_info.plot.line('Price','predicted_analytical_solution',ax = ax1,color = 'orange')\n",
    "orders_info.plot.line('Price','mean',ax = ax1,color = 'red')"
   ]
  },
  {
   "cell_type": "markdown",
   "metadata": {},
   "source": [
    "**Недостатки МНК**\n",
    "- Для нахождения решения необходимо вычислять обратную матрицу. Операция обращения матрицы требует, в случае d признаков, выполнение порядка $d^3$ операции, и является вычислительно сложной уже в задачах с десятком признаков.\n",
    "- Численный способ нахождения обратной матрицы не может быть применен в некоторых случаях(когда матрица плохо обусловлена)."
   ]
  },
  {
   "cell_type": "markdown",
   "metadata": {},
   "source": [
    "### Проверка качества полученного решения"
   ]
  },
  {
   "cell_type": "markdown",
   "metadata": {},
   "source": [
    "Теперь надо оценить качество решения, получившегося с помощью метода наименьших квадратов."
   ]
  },
  {
   "cell_type": "markdown",
   "metadata": {},
   "source": [
    "Среднеквадратичная ошибка:"
   ]
  },
  {
   "cell_type": "markdown",
   "metadata": {},
   "source": [
    "$\\Large MSE = \\frac{\\sum_{i=1}^n(\\hat{y_i}-y_i)^2}{n} $ "
   ]
  },
  {
   "cell_type": "markdown",
   "metadata": {},
   "source": [
    "Среднеквадратичная ошибка подходит для сравнения двух моделей или для контроля качества во время обучения, но не позволяет сделать выводы том, насколько хорошо данная модель решает задачу. Вместо среднеквадратичной ошибки полезно использовать **коэффициент детерминации**."
   ]
  },
  {
   "cell_type": "markdown",
   "metadata": {},
   "source": [
    "Попробуем нормализовать ошибку:"
   ]
  },
  {
   "cell_type": "markdown",
   "metadata": {},
   "source": [
    "$\\Large TSS =  ESS + RSS $\n",
    "\n",
    "$\\Large TSS = \\sum_{i=1}^n(y_i-\\overline{y})^2 $ - разброс относительно своего среднего.\n",
    "\n",
    "$\\Large ESS = \\sum_{i=1}^n(\\hat{y_i}-\\overline{y})^2 $ - объясненная сумма квадратов,сумма квадратов отклонений среднего от предсказанных y.\n",
    "\n",
    "$\\Large RSS = \\sum_{i=1}^n(\\hat{y_i}-y_i)^2 $ - остаточная сумма квадратов.\n",
    "\n",
    "$\\Large R^2 = \\frac{ESS}{TSS}$ - **коэффициент детерминации**, доля объясненной дисперсии отклика во всей дисперсии отклика."
   ]
  },
  {
   "cell_type": "markdown",
   "metadata": {},
   "source": [
    "<img width = '1000px' src=\"images/lesson_3/lr_2.png\">"
   ]
  },
  {
   "cell_type": "code",
   "execution_count": 31,
   "metadata": {},
   "outputs": [
    {
     "data": {
      "text/plain": [
       "0.5800274817271197"
      ]
     },
     "execution_count": 31,
     "metadata": {},
     "output_type": "execute_result"
    }
   ],
   "source": [
    "TSS = ((y - ymean) ** 2).sum()\n",
    "ESS = ((orders_info['predicted_analytical_solution'] - ymean) ** 2).sum()\n",
    "\n",
    "detCoef = ESS/TSS\n",
    "detCoef"
   ]
  },
  {
   "cell_type": "markdown",
   "metadata": {},
   "source": [
    "Используем уже готовые реализации."
   ]
  },
  {
   "cell_type": "code",
   "execution_count": 32,
   "metadata": {},
   "outputs": [],
   "source": [
    "from sklearn.metrics import mean_absolute_error, mean_squared_error, median_absolute_error, r2_score\n",
    "from sklearn.model_selection import train_test_split"
   ]
  },
  {
   "cell_type": "code",
   "execution_count": 33,
   "metadata": {},
   "outputs": [],
   "source": [
    "X_train, X_test, y_train, y_test = train_test_split(\n",
    "    X, y, test_size=0.3, random_state=10)\n",
    "\n",
    "y_train_pred = w[1] + w[0]*X_train[:,0]\n",
    "y_test_pred = w[1] + w[0]*X_test[:,0]"
   ]
  },
  {
   "cell_type": "code",
   "execution_count": 34,
   "metadata": {},
   "outputs": [
    {
     "name": "stdout",
     "output_type": "stream",
     "text": [
      "MSE train: 244.650, test: 254.315\n",
      "R^2 train: 0.579, test: 0.581\n"
     ]
    }
   ],
   "source": [
    "print('MSE train: {:.3f}, test: {:.3f}'.format(\n",
    "        mean_squared_error(y_train, y_train_pred),\n",
    "        mean_squared_error(y_test, y_test_pred)))\n",
    "print('R^2 train: {:.3f}, test: {:.3f}'.format(\n",
    "        r2_score(y_train, y_train_pred),\n",
    "        r2_score(y_test, y_test_pred)))"
   ]
  },
  {
   "cell_type": "markdown",
   "metadata": {},
   "source": [
    "### Линейная регрессия c библиотекой sklearn"
   ]
  },
  {
   "cell_type": "code",
   "execution_count": 35,
   "metadata": {},
   "outputs": [
    {
     "name": "stdout",
     "output_type": "stream",
     "text": [
      "-0.08065872181847457\n",
      "87.98934575195263\n"
     ]
    }
   ],
   "source": [
    "from sklearn.linear_model import LinearRegression\n",
    "\n",
    "linearmodel = LinearRegression()\n",
    "linearmodel.fit(X,y)\n",
    "\n",
    "print(linearmodel.coef_[0])\n",
    "print(linearmodel.intercept_)"
   ]
  },
  {
   "cell_type": "markdown",
   "metadata": {},
   "source": [
    "### Линейная регрессия с библиотекой statsmodels\n"
   ]
  },
  {
   "cell_type": "code",
   "execution_count": 36,
   "metadata": {},
   "outputs": [],
   "source": [
    "import statsmodels\n",
    "\n",
    "import statsmodels.formula.api as smf\n",
    "model = smf.ols('Orders~Price',data=orders_info)\n",
    "fitted = model.fit()"
   ]
  },
  {
   "cell_type": "code",
   "execution_count": 37,
   "metadata": {},
   "outputs": [
    {
     "data": {
      "text/plain": [
       "Intercept    87.989346\n",
       "Price        -0.080659\n",
       "dtype: float64"
      ]
     },
     "execution_count": 37,
     "metadata": {},
     "output_type": "execute_result"
    }
   ],
   "source": [
    "fitted.params"
   ]
  },
  {
   "cell_type": "code",
   "execution_count": 38,
   "metadata": {},
   "outputs": [
    {
     "name": "stdout",
     "output_type": "stream",
     "text": [
      "                            OLS Regression Results                            \n",
      "==============================================================================\n",
      "Dep. Variable:                 Orders   R-squared:                       0.580\n",
      "Model:                            OLS   Adj. R-squared:                  0.579\n",
      "Method:                 Least Squares   F-statistic:                     687.8\n",
      "Date:                Sat, 12 Oct 2019   Prob (F-statistic):           7.12e-96\n",
      "Time:                        13:52:24   Log-Likelihood:                -2087.4\n",
      "No. Observations:                 500   AIC:                             4179.\n",
      "Df Residuals:                     498   BIC:                             4187.\n",
      "Df Model:                           1                                         \n",
      "Covariance Type:            nonrobust                                         \n",
      "==============================================================================\n",
      "                 coef    std err          t      P>|t|      [0.025      0.975]\n",
      "------------------------------------------------------------------------------\n",
      "Intercept     87.9893      1.999     44.010      0.000      84.061      91.917\n",
      "Price         -0.0807      0.003    -26.226      0.000      -0.087      -0.075\n",
      "==============================================================================\n",
      "Omnibus:                       80.640   Durbin-Watson:                   1.980\n",
      "Prob(Omnibus):                  0.000   Jarque-Bera (JB):              158.964\n",
      "Skew:                           0.905   Prob(JB):                     3.03e-35\n",
      "Kurtosis:                       5.087   Cond. No.                     1.84e+03\n",
      "==============================================================================\n",
      "\n",
      "Warnings:\n",
      "[1] Standard Errors assume that the covariance matrix of the errors is correctly specified.\n",
      "[2] The condition number is large, 1.84e+03. This might indicate that there are\n",
      "strong multicollinearity or other numerical problems.\n"
     ]
    }
   ],
   "source": [
    "print (fitted.summary())"
   ]
  },
  {
   "cell_type": "markdown",
   "metadata": {},
   "source": [
    "Критерий Фишера для регрессионной модели отражает, насколько хорошо эта модель объясняет общую дисперсию зависимой переменной. "
   ]
  },
  {
   "cell_type": "markdown",
   "metadata": {},
   "source": [
    "$\\Large F =  \\frac{R^2/k}{(1 - R^2)/(n-k-1)}$,\n",
    "\n",
    "где\n",
    "\n",
    "$n$ - кол-во объясняющих переменных,\n",
    "\n",
    "$k$ - кол-во эксперементальных точек."
   ]
  },
  {
   "cell_type": "markdown",
   "metadata": {},
   "source": [
    "Для проверки значимости уравнения регрессии вычисленное значение критерия Фишера сравнивают с табличным на выбранном уровне значимости (обычно 0.05). Если рассчитанный критерий Фишера выше, чем табличный, то объясненная дисперсия существенно больше, чем необъясненная, и модель является значимой."
   ]
  },
  {
   "cell_type": "code",
   "execution_count": 39,
   "metadata": {},
   "outputs": [
    {
     "name": "stdout",
     "output_type": "stream",
     "text": [
      "7.124488003451089e-96\n",
      "687.7918752588998\n"
     ]
    }
   ],
   "source": [
    "print(fitted.f_pvalue)\n",
    "print(fitted.fvalue)"
   ]
  },
  {
   "cell_type": "markdown",
   "metadata": {},
   "source": [
    "### Решение методом градиентного спуска"
   ]
  },
  {
   "cell_type": "markdown",
   "metadata": {},
   "source": [
    "МНК - не всегда лучший способ решения, регрессию можно решить итерационно - с помощью метода **градиентного спуска**."
   ]
  },
  {
   "cell_type": "markdown",
   "metadata": {},
   "source": [
    "Суть **градиентного спуска** – минимизировать функцию, делая небольшие шаги в сторону наискорейшего убывания функции. Название методу подарил тот факт из математического анализа, что вектор $\\nabla f = (\\frac{\\partial f}{\\partial x_1}, \\ldots \\frac{\\partial f}{\\partial x_n})^T$ частных производных функции $f(x) = f(x_1, \\ldots x_n)$ задает направление наискорейшего возрастания этой функции. Значит, двигаясь в сторону антиградиента функции (вектора, противоположного градиенту), можно уменьшать ее значение быстрее всего. "
   ]
  },
  {
   "cell_type": "markdown",
   "metadata": {},
   "source": [
    "Нам нужно минимизировать среднеквадратичную ошибку."
   ]
  },
  {
   "cell_type": "markdown",
   "metadata": {},
   "source": [
    "$\\Large MSE = \\frac{\\sum_{i=1}^n(\\hat{y_i}-y_i)^2}{n} \\rightarrow min $ \n",
    "\n",
    "$\\Large f = \\frac{\\sum_{i=1}^n(\\hat{y_i}-(w_0 + w_1x_{i}))^2}{n} \\rightarrow min $ "
   ]
  },
  {
   "cell_type": "markdown",
   "metadata": {},
   "source": [
    "<img width = '500px' src=\"images/lesson_3/gradient_descent_demystified.png\">"
   ]
  },
  {
   "cell_type": "markdown",
   "metadata": {},
   "source": [
    "Итерационно меняем веса так, чтобы делать небольшой шаг $\\eta$ на каждой итерации в сторону антиградиента функции."
   ]
  },
  {
   "cell_type": "markdown",
   "metadata": {},
   "source": [
    "$\\Large \\begin{array}{rcl} w_0^{(t+1)} = w_0^{(t)} -\\eta \\frac{\\partial f}{\\partial w_0} |_{t} \\\\  w_1^{(t+1)} = w_1^{(t)} -\\eta \\frac{\\partial f}{\\partial w_1} |_{t} \\end{array}$"
   ]
  },
  {
   "cell_type": "markdown",
   "metadata": {},
   "source": [
    "Рассчитаем производные:"
   ]
  },
  {
   "cell_type": "markdown",
   "metadata": {},
   "source": [
    "$\\Large \\begin{array}{rcl} w_0^{(t+1)} = w_0^{(t)} + \\eta \\sum_{i=1}^{\\ell}(y_i - w_0^{(t)} - w_1^{(t)}x_i) \\\\  w_1^{(t+1)} = w_1^{(t)} + \\eta \\sum_{i=1}^{\\ell}(y_i - w_0^{(t)} - w_1^{(t)}x_i)x_i \\end{array}$"
   ]
  },
  {
   "cell_type": "code",
   "execution_count": 7,
   "metadata": {},
   "outputs": [],
   "source": [
    "X  = orders_info['Price'].values\n",
    "y  = orders_info['Orders'].values"
   ]
  },
  {
   "cell_type": "code",
   "execution_count": 8,
   "metadata": {},
   "outputs": [
    {
     "name": "stdout",
     "output_type": "stream",
     "text": [
      "-18.473260008430472 38.98364453125\n"
     ]
    }
   ],
   "source": [
    "# нормализация данных\n",
    "X_scaled = (X - X.mean())/X.std()\n",
    "\n",
    "# Задаем начальные приближения для w0 и w1\n",
    "w0 = 100\n",
    "w1 = -1\n",
    "\n",
    "L = 0.001  #шаг обновления весов\n",
    "epochs = 10 # кол-во итераций\n",
    "\n",
    "n = float(len(X_scaled))\n",
    "\n",
    "for i in range(epochs): \n",
    "    \n",
    "    w1 = w1 + L * sum(X_scaled*(y - w0 - w1*X_scaled)) \n",
    "    w0 = w0 + L * sum((y - w0 - w1*X_scaled))    \n",
    "    \n",
    "    plt.show()\n",
    "    \n",
    "#     break\n",
    "\n",
    "print (w1, w0)"
   ]
  },
  {
   "cell_type": "code",
   "execution_count": 43,
   "metadata": {},
   "outputs": [
    {
     "data": {
      "text/plain": [
       "<matplotlib.axes._subplots.AxesSubplot at 0x1d0958197f0>"
      ]
     },
     "execution_count": 43,
     "metadata": {},
     "output_type": "execute_result"
    },
    {
     "data": {
      "image/png": "[encoded data removed]",
      "text/plain": [
       "<Figure size 1152x360 with 1 Axes>"
      ]
     },
     "metadata": {
      "needs_background": "light"
     },
     "output_type": "display_data"
    }
   ],
   "source": [
    "orders_info['predicted_gradient_solution'] = w0 + w1*X_scaled\n",
    "orders_info['mean'] = ymean\n",
    "\n",
    "fig = plt.figure(figsize=(16,5))\n",
    "ax1 = plt.subplot(111)\n",
    "\n",
    "orders_info.plot.scatter('Price','Orders',ax = ax1)\n",
    "orders_info.plot.line('Price','predicted_analytical_solution',ax = ax1,color = 'orange')\n",
    "orders_info.plot.line('Price','predicted_gradient_solution',ax = ax1,color = 'darkblue')\n",
    "\n",
    "orders_info.plot.line('Price','mean',ax = ax1,color = 'red')"
   ]
  },
  {
   "cell_type": "code",
   "execution_count": 44,
   "metadata": {},
   "outputs": [
    {
     "name": "stdout",
     "output_type": "stream",
     "text": [
      "MSE train: 244.632, test: 254.371\n",
      "R^2 train: 0.579, test: 0.581\n"
     ]
    }
   ],
   "source": [
    "X_train, X_test, y_train, y_test = train_test_split(\n",
    "    X_scaled, y, test_size=0.3, random_state=10)\n",
    "\n",
    "y_train_pred = w0 + w1*X_train\n",
    "y_test_pred = w0 + w1*X_test\n",
    "\n",
    "\n",
    "print('MSE train: {:.3f}, test: {:.3f}'.format(\n",
    "        mean_squared_error(y_train, y_train_pred),\n",
    "        mean_squared_error(y_test, y_test_pred)))\n",
    "print('R^2 train: {:.3f}, test: {:.3f}'.format(\n",
    "        r2_score(y_train, y_train_pred),\n",
    "        r2_score(y_test, y_test_pred)))"
   ]
  },
  {
   "cell_type": "markdown",
   "metadata": {},
   "source": [
    "### Регуляризация линейных моделей"
   ]
  },
  {
   "cell_type": "markdown",
   "metadata": {},
   "source": [
    "**Переобучение** (переподгонка, пере- в значении «слишком», англ. overfitting) в машинном обучении и статистике — явление, когда построенная модель хорошо объясняет примеры из обучающей выборки, но относительно плохо работает на примерах, не участвовавших в обучении (на примерах из тестовой выборки)."
   ]
  },
  {
   "cell_type": "markdown",
   "metadata": {},
   "source": [
    "Основные признаки переобученности модели - большие веса у признаков в модели.\n"
   ]
  },
  {
   "cell_type": "markdown",
   "metadata": {},
   "source": [
    "Рассмотрим полиноминальную регрессию:"
   ]
  },
  {
   "cell_type": "code",
   "execution_count": 45,
   "metadata": {},
   "outputs": [
    {
     "data": {
      "image/png": "[encoded data removed]",
      "text/plain": [
       "<Figure size 1152x360 with 1 Axes>"
      ]
     },
     "metadata": {
      "needs_background": "light"
     },
     "output_type": "display_data"
    }
   ],
   "source": [
    "from sklearn.preprocessing import PolynomialFeatures\n",
    "\n",
    "\n",
    "n_samples = 100\n",
    "X = np.linspace(0, 10, 100)\n",
    "y = X ** 3 + np.random.randn(n_samples) * 100 + 100\n",
    "\n",
    "X = X.reshape(-1,1)\n",
    "\n",
    "regr = LinearRegression()\n",
    "\n",
    "# create quadratic features\n",
    "quadratic = PolynomialFeatures(degree=2)\n",
    "cubic = PolynomialFeatures(degree=3)\n",
    "tenth = PolynomialFeatures(degree=40)\n",
    "X_quad = quadratic.fit_transform(X)\n",
    "X_tenth = tenth.fit_transform(X)\n",
    "\n",
    "# fit features\n",
    "X_fit = np.arange(X.min(), X.max(), 1)[:, np.newaxis]\n",
    "\n",
    "regr = regr.fit(X, y)\n",
    "y_lin_fit = regr.predict(X_fit)\n",
    "linear_r2 = r2_score(y, regr.predict(X))\n",
    "\n",
    "regr = regr.fit(X_quad, y)\n",
    "y_quad_fit = regr.predict(quadratic.fit_transform(X_fit))\n",
    "quadratic_r2 = r2_score(y, regr.predict(X_quad))\n",
    "\n",
    "regr = regr.fit(X_tenth, y)\n",
    "y_tenth_fit = regr.predict(tenth.fit_transform(X_fit))\n",
    "tenth_r2 = r2_score(y, regr.predict(X_tenth))\n",
    "\n",
    "fig = plt.figure(figsize=(16,5))\n",
    "\n",
    "# plot results\n",
    "plt.scatter(X, y, label='training points', color='lightgray')\n",
    "\n",
    "plt.plot(X_fit, y_lin_fit, \n",
    "         label='linear (d=1), $R^2={:.2f}$'.format(linear_r2), \n",
    "         color='blue', \n",
    "         lw=2, \n",
    "         linestyle=':')\n",
    "\n",
    "plt.plot(X_fit, y_quad_fit, \n",
    "         label='quadratic (d=2), $R^2={:.2f}$'.format(quadratic_r2),\n",
    "         color='red', \n",
    "         lw=2,\n",
    "         linestyle='-')\n",
    "\n",
    "plt.plot(X_fit, y_tenth_fit, \n",
    "         label='tenth (d=10), $R^2={:.2f}$'.format(tenth_r2),\n",
    "         color='yellow', \n",
    "         lw=2, \n",
    "         linestyle='--')\n",
    "\n",
    "plt.legend(loc='upper right')\n",
    "plt.show()"
   ]
  },
  {
   "cell_type": "code",
   "execution_count": 46,
   "metadata": {},
   "outputs": [
    {
     "data": {
      "text/plain": [
       "array([-4.71431551e-27, -1.12598236e-26, -2.04278093e-26,  4.38832766e-27,\n",
       "       -9.54510798e-28,  1.63396727e-28, -4.37588660e-29,  5.09764049e-28,\n",
       "        3.28046257e-42,  8.86307810e-42,  6.22955201e-41,  4.34872578e-40,\n",
       "        3.01411579e-39,  2.07311574e-38,  1.41401018e-37,  9.55603527e-37,\n",
       "        6.39233848e-36,  4.22749079e-35,  2.76021752e-34,  1.77637918e-33,\n",
       "        1.12468112e-32,  6.98941066e-32,  4.25198659e-31,  2.52381901e-30,\n",
       "        1.45576031e-29,  8.11900907e-29,  4.35028304e-28,  2.22079597e-27,\n",
       "        1.06809437e-26,  4.76471442e-26,  1.92688877e-25,  6.81525742e-25,\n",
       "        1.98038448e-24,  4.14706790e-24,  4.08214884e-24, -3.72554487e-24,\n",
       "        1.09465062e-24, -1.62655405e-25,  1.33209952e-26, -5.75972973e-28,\n",
       "        1.03157766e-29])"
      ]
     },
     "execution_count": 46,
     "metadata": {},
     "output_type": "execute_result"
    }
   ],
   "source": [
    "regr.coef_"
   ]
  },
  {
   "cell_type": "markdown",
   "metadata": {},
   "source": [
    "Cложные модели, у которых степеней свободы достаточно много, могут попросту запомнить весь тренировочный набор, полностью теряя обобщающую способность."
   ]
  },
  {
   "cell_type": "markdown",
   "metadata": {},
   "source": [
    "Переобучение дает неплавные кривые прогнозирования, т. е. «нерегулярные». Такие плохие сложные кривые прогнозирования обычно характеризуются весовыми значениями, которые имеют очень большие или очень малые величины. Поэтому один из способов уменьшить степень переобучения состоит в том, чтобы не допускать очень малых или больших весовых значений для модели. В этом и заключается суть регуляризации."
   ]
  },
  {
   "cell_type": "markdown",
   "metadata": {},
   "source": [
    "**Регуляризация** — это способ уменьшить сложность модели чтобы предотвратить переобучение или исправить некорректно поставленную задачу."
   ]
  },
  {
   "cell_type": "markdown",
   "metadata": {},
   "source": [
    "### $L^2$ - регуляризация"
   ]
  },
  {
   "cell_type": "markdown",
   "metadata": {},
   "source": [
    "$\\Large \\begin{array}{rcl}\\mathcal{L}\\left(X, \\vec{y}, \\vec{w} \\right) = \\frac{1}{2n} \\left(\\vec{y} - X \\vec{w}\\right)^T \\left(\\vec{y} - X \\vec{w}\\right) \\end{array} + \\frac{\\lambda}{2} \\vec{w}^T \\vec{w} $"
   ]
  },
  {
   "cell_type": "markdown",
   "metadata": {},
   "source": [
    "Суть состоит в том, что мы изменяем нашу первоначальную функцию, добавляя «штраф» на большие весовые коэффициенты. Мы добавляем квадрат величины весовых коэффициентов, умноженный на константу λ, к нашей прежней квадратической функции погрешностей. Мы делаем это потому, что большое значение весовых коэффициентов являются признаком переобученности. "
   ]
  },
  {
   "cell_type": "markdown",
   "metadata": {},
   "source": [
    "$\\Large \\begin{array}{rcl} w_0^{(t+1)} = w_0^{(t)} + \\eta (\\sum_{i=1}^{\\ell}(y_i - w_0^{(t)} - w_1^{(t)}x_i) + \\lambda w_0^{(t)} ) \\\\  w_1^{(t+1)} = w_1^{(t)} + \\eta (\\sum_{i=1}^{\\ell}(y_i - w_0^{(t)} - w_1^{(t)}x_i)x_i + \\lambda w_1^{(t)}) \\end{array}$"
   ]
  },
  {
   "cell_type": "markdown",
   "metadata": {},
   "source": [
    "### $L^1$ - регуляризация\n"
   ]
  },
  {
   "cell_type": "markdown",
   "metadata": {},
   "source": [
    "$\\Large \\begin{array}{rcl}\\mathcal{L}\\left(X, \\vec{y}, \\vec{w} \\right) = \\frac{1}{2n} \\left(\\vec{y} - X \\vec{w}\\right)^T \\left(\\vec{y} - X \\vec{w}\\right) \\end{array} + \\lambda |w| $"
   ]
  },
  {
   "cell_type": "markdown",
   "metadata": {},
   "source": [
    "В основе L1-регуляризации лежит достаточно простая идея. Как и в случае L2-регуляризации, мы просто добавляем штраф к первоначальной функции затрат."
   ]
  },
  {
   "cell_type": "markdown",
   "metadata": {},
   "source": [
    "$\\Large \\begin{array}{rcl} w_0^{(t+1)} = w_0^{(t)} + \\eta (\\sum_{i=1}^{\\ell}(y_i - w_0^{(t)} - w_1^{(t)}x_i) + \\lambda sign(w_0^{(t)}) ) \\\\  w_1^{(t+1)} = w_1^{(t)} + \\eta (\\sum_{i=1}^{\\ell}(y_i - w_0^{(t)} - w_1^{(t)}x_i)x_i + \\lambda sign(w_1^{(t)})) \\end{array}$"
   ]
  },
  {
   "cell_type": "markdown",
   "metadata": {},
   "source": [
    "---"
   ]
  },
  {
   "cell_type": "markdown",
   "metadata": {},
   "source": [
    "- L1-регуляризация реализует это путём отбора наиболее важных факторов, которые сильнее всего влияют на результат. Для простоты можете считать, что факторы с малой величиной влияния на конечный результат фактически «помогают» вам предсказывать лишь шум в наборе обучающих данных.\n",
    "- L2-регуляризация предотвращает переобученность модели путём запрета на непропорционально большие весовые коэффициенты."
   ]
  },
  {
   "cell_type": "markdown",
   "metadata": {},
   "source": [
    "http://rasbt.github.io/mlxtend/user_guide/general_concepts/regularization-linear/"
   ]
  }
 ],
 "metadata": {
  "kernelspec": {
   "display_name": "Python 3",
   "language": "python",
   "name": "python3"
  },
  "language_info": {
   "codemirror_mode": {
    "name": "ipython",
    "version": 3
   },
   "file_extension": ".py",
   "mimetype": "text/x-python",
   "name": "python",
   "nbconvert_exporter": "python",
   "pygments_lexer": "ipython3",
   "version": "3.7.4"
  }
 },
 "nbformat": 4,
 "nbformat_minor": 2
}
